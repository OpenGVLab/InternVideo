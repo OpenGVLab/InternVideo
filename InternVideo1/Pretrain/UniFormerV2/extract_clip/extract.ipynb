{
 "cells": [
  {
   "cell_type": "code",
   "execution_count": 1,
   "metadata": {},
   "outputs": [
    {
     "name": "stderr",
     "output_type": "stream",
     "text": [
      "/mnt/petrelfs/likunchang/.conda/envs/video/lib/python3.7/site-packages/tqdm/auto.py:22: TqdmWarning: IProgress not found. Please update jupyter and ipywidgets. See https://ipywidgets.readthedocs.io/en/stable/user_install.html\n",
      "  from .autonotebook import tqdm as notebook_tqdm\n"
     ]
    }
   ],
   "source": [
    "import clip.clip as clip\n",
    "import torch\n",
    "from collections import OrderedDict"
   ]
  },
  {
   "cell_type": "code",
   "execution_count": 4,
   "metadata": {},
   "outputs": [],
   "source": [
    "model, _ = clip.load(\"ViT-B/16\", device='cpu')\n",
    "new_state_dict = OrderedDict()\n",
    "for k, v in model.state_dict().items():\n",
    "    if 'visual.' in k:\n",
    "        if k[7:] not in [\"proj\", \"ln_post.weight\", \"ln_post.bias\"]:\n",
    "            new_state_dict[k[7:]] = v\n",
    "torch.save(new_state_dict, 'vit_b16.pth')"
   ]
  },
  {
   "cell_type": "code",
   "execution_count": null,
   "metadata": {},
   "outputs": [],
   "source": [
    "model, _ = clip.load(\"ViT-L/14\", device='cpu')\n",
    "new_state_dict = OrderedDict()\n",
    "for k, v in model.state_dict().items():\n",
    "    if 'visual.' in k:\n",
    "        if k[7:] not in [\"proj\", \"ln_post.weight\", \"ln_post.bias\"]:\n",
    "            new_state_dict[k[7:]] = v\n",
    "torch.save(new_state_dict, 'vit_l14.pth')"
   ]
  },
  {
   "cell_type": "code",
   "execution_count": null,
   "metadata": {},
   "outputs": [],
   "source": [
    "model, _ = clip.load(\"ViT-L/14@336px\", device='cpu')\n",
    "new_state_dict = OrderedDict()\n",
    "for k, v in model.state_dict().items():\n",
    "    if 'visual.' in k:\n",
    "        if k[7:] not in [\"proj\", \"ln_post.weight\", \"ln_post.bias\"]:\n",
    "            new_state_dict[k[7:]] = v\n",
    "torch.save(new_state_dict, 'vit_l14_336.pth')"
   ]
  }
 ],
 "metadata": {
  "kernelspec": {
   "display_name": "Python 3.7.13 64-bit ('video')",
   "language": "python",
   "name": "python3"
  },
  "language_info": {
   "codemirror_mode": {
    "name": "ipython",
    "version": 3
   },
   "file_extension": ".py",
   "mimetype": "text/x-python",
   "name": "python",
   "nbconvert_exporter": "python",
   "pygments_lexer": "ipython3",
   "version": "3.7.13"
  },
  "orig_nbformat": 4,
  "vscode": {
   "interpreter": {
    "hash": "541191e2b003f5dcae666b7cf47a8ce9f0862214fd45822d42fd05cca313f34a"
   }
  }
 },
 "nbformat": 4,
 "nbformat_minor": 2
}
